{
  "nbformat": 4,
  "nbformat_minor": 0,
  "metadata": {
    "colab": {
      "provenance": [],
      "name": "matching.ipynb"
    },
    "kernelspec": {
      "name": "python3",
      "display_name": "Python 3"
    },
    "language_info": {
      "name": "python"
    }
  },
  "cells": [
    {
      "cell_type": "markdown",
      "source": [
        "# Загрузка данных"
      ],
      "metadata": {
        "id": "LHKxf2r7TTIq"
      }
    },
    {
      "cell_type": "code",
      "source": [
        "import pandas as pd\n",
        "import random\n",
        "# Список offer нужно раскомментировать, если нет исправленного файла offer_example.json\n",
        "'''offer = [\n",
        "      \"Планшетный компьютер 9.7 Apple iPad 4 A6X 1.4ГГц, 64Гб Flash, Wi-Fi + , GPS, iOS черный (MD512TU/A MD512RS/A)\",\n",
        "      \"Планшетный компьютер 10.1 Effire CityNight D10 3G Quad Core MT8389 Cortex A7/1Гб/8Гб/10,1 1280*800/WIFI/Bluetooth/3G/GPS/Android 4.2\",\n",
        "      \"Планшетный компьютер 9.7 Apple iPad 32Gb WiFi Space Gray (MP2F2RU/A)\",\n",
        "      \"Ноутбук HP Pavilion 15-eh1158ur (601D6EA)\",\n",
        "      \"Смартфон Samsung Galaxy Z Fold5 256Gb Phantom Black (SM-F946B)\",\n",
        "      \"Смартфон Samsung Galaxy Z Fold5 512Gb Phantom Black (SM-F946B)\"\n",
        "    ]'''\n",
        "\n",
        "df = pd.read_json('/content/offer_example.json')\n",
        "model = ['Apple iPad 4 64Gb Wi-Fi', 'Effire CityNight', 'Apple iPad (2017) 32Gb Wi-Fi', 'HP Pavilion', 'Samsung Galaxy Z Fold5 256Gb', 'Samsung Galaxy Z Fold5 512Gb']"
      ],
      "metadata": {
        "id": "oJ7kg_vCTCbY"
      },
      "execution_count": null,
      "outputs": []
    },
    {
      "cell_type": "markdown",
      "source": [
        "Перемешаем наш список, чтобы убедиться в обучении. Так как данные сейчас попарно сходятся offer и model"
      ],
      "metadata": {
        "id": "MrraVJ5oe3hz"
      }
    },
    {
      "cell_type": "code",
      "source": [
        "random.shuffle(model)\n",
        "model"
      ],
      "metadata": {
        "colab": {
          "base_uri": "https://localhost:8080/"
        },
        "id": "OVmtRkl7Z7yR",
        "outputId": "7554a1f2-5b2a-4200-900a-31a7d569baa2"
      },
      "execution_count": null,
      "outputs": [
        {
          "output_type": "execute_result",
          "data": {
            "text/plain": [
              "['Effire CityNight',\n",
              " 'Samsung Galaxy Z Fold5 256Gb',\n",
              " 'HP Pavilion',\n",
              " 'Apple iPad 4 64Gb Wi-Fi',\n",
              " 'Samsung Galaxy Z Fold5 512Gb',\n",
              " 'Apple iPad (2017) 32Gb Wi-Fi']"
            ]
          },
          "metadata": {},
          "execution_count": 13
        }
      ]
    },
    {
      "cell_type": "markdown",
      "source": [
        "# Стандартизация данных\n"
      ],
      "metadata": {
        "id": "R8xY3BNlThzz"
      }
    },
    {
      "cell_type": "code",
      "source": [
        "import re\n",
        "\n",
        "def remove_words(words):\n",
        "    clear = []\n",
        "    for word in words:\n",
        "        # Нижний регистр\n",
        "        word = word.casefold()\n",
        "        # Замена гб на gb\n",
        "        word = word.replace('гб', 'gb')\n",
        "        # Удаление лишних символов\n",
        "        word = ''.join(e for e in word if e.isspace() or e.isalnum() )\n",
        "        # Определение шаблона для поиска ненужных слов\n",
        "        pattern = r'\\b(?!\\d+(?:gb))\\w+\\d+\\w+\\b'\n",
        "        # Замена найденных слов на пустую строку и удаление повторяющихся пробелов\n",
        "        cleaned_words = re.sub(pattern, '', word)\n",
        "        cleaned_words = re.sub(r'\\s+', ' ', cleaned_words)\n",
        "        clear.append(cleaned_words.strip())\n",
        "\n",
        "    return clear"
      ],
      "metadata": {
        "id": "0QHl0sKJT2A4"
      },
      "execution_count": null,
      "outputs": []
    },
    {
      "cell_type": "markdown",
      "source": [
        "Offer - данные, которые мы получаем через json"
      ],
      "metadata": {
        "id": "QFYtcmFUA4FG"
      }
    },
    {
      "cell_type": "code",
      "source": [
        "# нужно закомментировать offer если нет исправленного файла offer_example.json\n",
        "offer = df['main']['name']\n",
        "offer"
      ],
      "metadata": {
        "colab": {
          "base_uri": "https://localhost:8080/"
        },
        "id": "0XRBl1xgS_UK",
        "outputId": "fe022164-1062-4ea2-da6e-e4c891e7c4e3"
      },
      "execution_count": null,
      "outputs": [
        {
          "output_type": "execute_result",
          "data": {
            "text/plain": [
              "['Планшетный компьютер 9.7 Apple iPad 4 A6X 1.4ГГц, 64Гб Flash, Wi-Fi + , GPS, iOS черный (MD512TU/A MD512RS/A)',\n",
              " 'Планшетный компьютер 10.1 Effire CityNight D10 3G Quad Core MT8389 Cortex A7/1Гб/8Гб/10,1 1280*800/WIFI/Bluetooth/3G/GPS/Android 4.2',\n",
              " 'Планшетный компьютер 9.7 Apple iPad 32Gb WiFi Space Gray (MP2F2RU/A)',\n",
              " 'Ноутбук HP Pavilion 15-eh1158ur (601D6EA)',\n",
              " 'Смартфон Samsung Galaxy Z Fold5 256Gb Phantom Black (SM-F946B)',\n",
              " 'Смартфон Samsung Galaxy Z Fold5 512Gb Phantom Black (SM-F946B)']"
            ]
          },
          "metadata": {},
          "execution_count": 15
        }
      ]
    },
    {
      "cell_type": "markdown",
      "source": [
        "offer_clear - стандартизированные данные offer"
      ],
      "metadata": {
        "id": "Hr-NZjmiBe9Q"
      }
    },
    {
      "cell_type": "code",
      "source": [
        "offer_clear = remove_words(offer)\n",
        "offer_clear"
      ],
      "metadata": {
        "colab": {
          "base_uri": "https://localhost:8080/"
        },
        "id": "mGNIP4EgSH9P",
        "outputId": "f8d55505-be74-4ddf-8fb1-c161dcb7d9d3"
      },
      "execution_count": null,
      "outputs": [
        {
          "output_type": "execute_result",
          "data": {
            "text/plain": [
              "['планшетный компьютер 97 apple ipad 4 64gb flash wifi gps ios черный',\n",
              " 'планшетный компьютер effire citynight 3g quad core cortex 42',\n",
              " 'планшетный компьютер 97 apple ipad 32gb wifi space gray',\n",
              " 'ноутбук hp pavilion',\n",
              " 'смартфон samsung galaxy z fold5 256gb phantom black',\n",
              " 'смартфон samsung galaxy z fold5 512gb phantom black']"
            ]
          },
          "metadata": {},
          "execution_count": 16
        }
      ]
    },
    {
      "cell_type": "markdown",
      "source": [
        "model - данные, которые мы должны матчить с offer"
      ],
      "metadata": {
        "id": "TQTUTr1UBn5w"
      }
    },
    {
      "cell_type": "code",
      "source": [
        "model"
      ],
      "metadata": {
        "colab": {
          "base_uri": "https://localhost:8080/"
        },
        "id": "enIq8t6Afc-T",
        "outputId": "95034c19-ff61-4a63-b058-3ed40bfe1e4a"
      },
      "execution_count": null,
      "outputs": [
        {
          "output_type": "execute_result",
          "data": {
            "text/plain": [
              "['Effire CityNight',\n",
              " 'Samsung Galaxy Z Fold5 256Gb',\n",
              " 'HP Pavilion',\n",
              " 'Apple iPad 4 64Gb Wi-Fi',\n",
              " 'Samsung Galaxy Z Fold5 512Gb',\n",
              " 'Apple iPad (2017) 32Gb Wi-Fi']"
            ]
          },
          "metadata": {},
          "execution_count": 17
        }
      ]
    },
    {
      "cell_type": "markdown",
      "source": [
        "model_clear - стандартизированные данные model"
      ],
      "metadata": {
        "id": "jT1WWIMKB6Ne"
      }
    },
    {
      "cell_type": "code",
      "source": [
        "model_clear = remove_words(model)\n",
        "model_clear"
      ],
      "metadata": {
        "colab": {
          "base_uri": "https://localhost:8080/"
        },
        "id": "MwSHLTnvR2MZ",
        "outputId": "afc6dd66-5a83-4a88-d799-07284e2e1a9f"
      },
      "execution_count": null,
      "outputs": [
        {
          "output_type": "execute_result",
          "data": {
            "text/plain": [
              "['effire citynight',\n",
              " 'samsung galaxy z fold5 256gb',\n",
              " 'hp pavilion',\n",
              " 'apple ipad 4 64gb wifi',\n",
              " 'samsung galaxy z fold5 512gb',\n",
              " 'apple ipad 32gb wifi']"
            ]
          },
          "metadata": {},
          "execution_count": 18
        }
      ]
    },
    {
      "cell_type": "markdown",
      "source": [
        "# Обучение kNN"
      ],
      "metadata": {
        "id": "XhFSXQcOT8we"
      }
    },
    {
      "cell_type": "code",
      "source": [
        "from sklearn.neighbors import NearestNeighbors\n",
        "from sklearn.feature_extraction.text import CountVectorizer\n",
        "import numpy as np\n",
        "\n",
        "# Векторизация имен и моделей\n",
        "vectorizer = CountVectorizer()\n",
        "X_names = vectorizer.fit_transform(offer_clear).toarray()\n",
        "X_models = vectorizer.transform(model_clear).toarray()\n",
        "\n",
        "# Создание модели kNN и обучение\n",
        "knn = NearestNeighbors(n_neighbors=1)\n",
        "knn.fit(X_models)\n",
        "\n",
        "# Функция для сопоставления имени с моделью\n",
        "def match_models(names):\n",
        "    raw = []\n",
        "    for name in names:\n",
        "        name_vector = vectorizer.transform([name]).toarray()\n",
        "        _, indices = knn.kneighbors(name_vector)\n",
        "        matched_model = model[indices[0, 0]]\n",
        "        raw.append(matched_model)\n",
        "    matching = dict(zip(offer, raw))\n",
        "    return matching"
      ],
      "metadata": {
        "id": "Uj5hxtXArC-W"
      },
      "execution_count": null,
      "outputs": []
    },
    {
      "cell_type": "markdown",
      "source": [
        "Результат матчинга решил сохранить в словарь. При необходимости можно будет без проблем добавить в json. Также удобно получить информацию, отдаем offer получаем model. При этом данные сохранены в изначальном виде - без стандартизации. Данные находятся в порядке списка offer"
      ],
      "metadata": {
        "id": "MxSpNs3hCgl1"
      }
    },
    {
      "cell_type": "code",
      "source": [
        "matching = match_models(offer_clear)\n",
        "matching"
      ],
      "metadata": {
        "colab": {
          "base_uri": "https://localhost:8080/"
        },
        "id": "MEX2GdT_X0Fr",
        "outputId": "8a26ca2e-57bb-4544-d0ea-3cdf3d2d4d68"
      },
      "execution_count": null,
      "outputs": [
        {
          "output_type": "execute_result",
          "data": {
            "text/plain": [
              "{'Планшетный компьютер 9.7 Apple iPad 4 A6X 1.4ГГц, 64Гб Flash, Wi-Fi + , GPS, iOS черный (MD512TU/A MD512RS/A)': 'Apple iPad 4 64Gb Wi-Fi',\n",
              " 'Планшетный компьютер 10.1 Effire CityNight D10 3G Quad Core MT8389 Cortex A7/1Гб/8Гб/10,1 1280*800/WIFI/Bluetooth/3G/GPS/Android 4.2': 'Effire CityNight',\n",
              " 'Планшетный компьютер 9.7 Apple iPad 32Gb WiFi Space Gray (MP2F2RU/A)': 'Apple iPad (2017) 32Gb Wi-Fi',\n",
              " 'Ноутбук HP Pavilion 15-eh1158ur (601D6EA)': 'HP Pavilion',\n",
              " 'Смартфон Samsung Galaxy Z Fold5 256Gb Phantom Black (SM-F946B)': 'Samsung Galaxy Z Fold5 256Gb',\n",
              " 'Смартфон Samsung Galaxy Z Fold5 512Gb Phantom Black (SM-F946B)': 'Samsung Galaxy Z Fold5 512Gb'}"
            ]
          },
          "metadata": {},
          "execution_count": 20
        }
      ]
    },
    {
      "cell_type": "markdown",
      "source": [
        "При этом, модель может правильно матчить 2 последних примера, у которых разница лишь в количестве Gb"
      ],
      "metadata": {
        "id": "S2Go5B-DM7Mo"
      }
    },
    {
      "cell_type": "markdown",
      "source": [
        "# Метрика F-мера"
      ],
      "metadata": {
        "id": "MOecnXWyUOL9"
      }
    },
    {
      "cell_type": "code",
      "source": [
        "from sklearn.metrics import precision_score, recall_score, f1_score\n",
        "\n",
        "# Ожидание\n",
        "y_true = ['Apple iPad 4 64Gb Wi-Fi', 'Effire CityNight', 'Apple iPad (2017) 32Gb Wi-Fi',  'HP Pavilion', 'Samsung Galaxy Z Fold5 256Gb', 'Samsung Galaxy Z Fold5 512Gb']\n",
        "# Предсказание\n",
        "X_pred = list(matching.values())\n",
        "\n",
        "# Расчет точности, полноты и F-меры\n",
        "precision = precision_score(y_true, X_pred, average='micro')\n",
        "recall = recall_score(y_true, X_pred, average='micro')\n",
        "f1 = f1_score(y_true, X_pred, average='micro')\n",
        "\n",
        "print(\"Точность:\", precision)\n",
        "print(\"Полнота:\", recall)\n",
        "print(\"F-мера:\", f1)"
      ],
      "metadata": {
        "colab": {
          "base_uri": "https://localhost:8080/"
        },
        "id": "8E6KQP4Jpk1-",
        "outputId": "ae3de6c3-5797-494f-dd68-0234b9177f6d"
      },
      "execution_count": null,
      "outputs": [
        {
          "output_type": "stream",
          "name": "stdout",
          "text": [
            "Точность: 1.0\n",
            "Полнота: 1.0\n",
            "F-мера: 1.0\n"
          ]
        }
      ]
    },
    {
      "cell_type": "markdown",
      "source": [
        "На данных примерах, модель работает без ошибок. При дополнении новых данных, есть вероятность того, что модель нужно будет улучшать, для наилучшего результата"
      ],
      "metadata": {
        "id": "MP_KyrfoQ4sZ"
      }
    }
  ]
}